{
 "cells": [
  {
   "cell_type": "markdown",
   "metadata": {},
   "source": [
    "# BBGKY Hierarchy for Curie Weiss 1D spin model\n",
    "\n",
    "The code written according to Mori's paper i.e. ZZX model (I'll convert it into XXZ model latter). \n",
    "<br>\n",
    "The correlation G-matrix and delta(Sigma s') are zero initially."
   ]
  },
  {
   "cell_type": "markdown",
   "metadata": {},
   "source": [
    "### The BBGKY hierarchy with $\\delta t$ formulation\n",
    "\n",
    "##### 02 March 2020"
   ]
  },
  {
   "cell_type": "code",
   "execution_count": 5,
   "metadata": {},
   "outputs": [
    {
     "data": {
      "image/png": "[encoded data removed]",
      "text/plain": [
       "<Figure size 432x288 with 1 Axes>"
      ]
     },
     "metadata": {},
     "output_type": "display_data"
    }
   ],
   "source": [
    "from scipy.integrate import odeint\n",
    "import numpy as np\n",
    "import matplotlib.pyplot as plt\n",
    "\n",
    "def dsx(hx, delta_t):\n",
    "    dsx = -16.0*np.power(hx,3.0)*np.power(delta_t,3.0)+2.0*\\\n",
    "    (128.0*np.power(hx,5.0)*np.power(delta_t,5.0)-8.0*hx*np.power(delta_t,2.0))\n",
    "    return dsx\n",
    "\n",
    "def dsz(hx, delta_t):\n",
    "    dsz = - 4.0 * hx * hx * delta_t\n",
    "    return dsz\n",
    "\n",
    "omega = 25.0\n",
    "\n",
    "sx0 = 0.0\n",
    "sz0 = 1.0\n",
    "delta_t = np.linspace(0.0,10.0,5000)\n",
    "hx = 25.0 * np.cos(omega * delta_t)\n",
    "sx = odeint(dsx, sx0, delta_t)\n",
    "sz = odeint(dsz, sz0, delta_t)\n",
    "\n",
    "plt.plot(delta_t, sx, label = \"sx BBGKY\")\n",
    "plt.plot(delta_t, sz, label = \"sz BBGKY\")\n",
    "plt.xlabel(\"t\")\n",
    "plt.xlim(0.0, 1.0)\n",
    "plt.legend()\n",
    "plt.grid()\n",
    "plt.show()     "
   ]
  },
  {
   "cell_type": "markdown",
   "metadata": {},
   "source": [
    "### Only the function are defined here and the function are verfied\n",
    "##### Follow T.Mori's paper \n",
    "##### 09 March 2020"
   ]
  },
  {
   "cell_type": "code",
   "execution_count": 25,
   "metadata": {},
   "outputs": [
    {
     "name": "stdout",
     "output_type": "stream",
     "text": [
      "code seems to be okay till now!!\n"
     ]
    }
   ],
   "source": [
    "import numpy as np\n",
    "from scipy.sparse import dia_matrix\n",
    "from math import *\n",
    "from itertools import combinations\n",
    "from scipy.integrate import odeint\n",
    "import matplotlib.pyplot as plt\n",
    "from scipy.sparse import csr_matrix\n",
    "import time as tm\n",
    "\n",
    "\n",
    "#Pauli matrices\n",
    "sig_x, sig_y, sig_z = \\\n",
    "  np.array([[0j, 1.0+0j], [1.0+0j, 0j]]), \\\n",
    "    np.array([[0j, -1j], [1j, 0j]]), \\\n",
    "      np.array([[1.0+0j, 0j], [0j, -1+0j]])\n",
    "sig_plus = (sig_x + sig_y*1j)/2.0\n",
    "sig_minus = (sig_x - sig_y*1j)/2.0\n",
    "# Required parameters\n",
    "N = 4                # lattice size\n",
    "t = np.linspace(0.0,1.0,n)\n",
    "alpha = 0.2\n",
    "omega = 0.0\n",
    "# Initial values: ACCORDING TO MORI'S PAPER i.e. ZZX model\n",
    "jx, jy, jz = 0.0, 0.0, -1.0 \n",
    "hx, hy, hz = -1.0, 0.0, 0.0\n",
    "sx, sy, sz = 0.0, 0.0, 1.0\n",
    "# Periodic Boundary Condition\n",
    "def jmat(N, alpha):\n",
    "    J = dia_matrix((N, N))\n",
    "    mid_diag = np.floor(N/2).astype(int)\n",
    "    for i in np.arange(1,mid_diag+1):\n",
    "        elem = pow(i, -alpha)\n",
    "        J.setdiag(elem, k=i)\n",
    "        J.setdiag(elem, k=-i)\n",
    "    for i in np.arange(mid_diag+1, N):\n",
    "        elem = pow(N-i, -alpha)\n",
    "        J.setdiag(elem, k=i)\n",
    "        J.setdiag(elem, k=-i)\n",
    "    return J.toarray()\n",
    "J = jmat(N, alpha)\n",
    "\n",
    "gmat = np.zeros((N,3,3))\n",
    "wmat = np.array([[0, 2 * (sz + hz), 0], [- 2 * (sz + hz), 0, 2 *hx],\\\n",
    "                  [0, - 2 * hx, 0]])\n",
    "v_vec = np.array([[2 * sy], [- 2 * sx], [0.0]])\n",
    "f_vec = np.array([[- sx * sz], [- sy * sz], [1 - sz * sz]])\n",
    "\n",
    "def fsx(sx,sy,sz,N):\n",
    "    dsx = 2.0 * sy * sz + 2 * hz * sy +\\\n",
    "                2 * np.sum(J[i,j] * gmat[j,1,2] \\\n",
    "                           for i in np.arange(N) for j in np.arange(1,N))\n",
    "    return dsx\n",
    "    \n",
    "                                           \n",
    "def fsy(sx,sy,sz,N):\n",
    "    dsy  = -2.0 * sx * sz - 2 * hz * sx +\\\n",
    "    2 * hx * sz - 2 * (np.sum(J[i,j] *\\\n",
    "                                       gmat[j,0,2] for i in \\\n",
    "                                       np.arange(N) for j in np.arange(1,N)))\n",
    "    return dsy\n",
    "\n",
    "def fsz(sx,sy,sz,N):\n",
    "    dsz = - 2.0 * hx * sy\n",
    "    return dsz\n",
    "\n",
    "def gcorr(a,b,k):\n",
    "    left = np.sum(np.dot(wmat[a,c], gmat[k,c,b]) + np.dot(wmat[b,c], gmat[k,a,c]) for c in np.arange(3))\n",
    "    mdl1 = v_vec[a] * np.sum(np.dot(J[0, j], gmat[np.absolute(j-k) + 1, 2, b]) for j in np.arange(1,k))\n",
    "    mdl2 = v_vec[b] * np.sum(np.dot(J[k, j], gmat[j,a,2]) for j in np.arange(1,k))\n",
    "    rght = J[0, k] * (np.dot(v_vec[a], f_vec[b]) + np.dot(v_vec[b], f_vec[a]))\n",
    "    gcor = left + mdl1 + mdl2 + rght\n",
    "    return gcor\n",
    "\n",
    "print(\"code seems to be okay till now!!\")"
   ]
  },
  {
   "cell_type": "markdown",
   "metadata": {},
   "source": [
    "### Sample python code for coupled differential equation for \"odeint\""
   ]
  },
  {
   "cell_type": "code",
   "execution_count": 2,
   "metadata": {},
   "outputs": [
    {
     "data": {
      "image/png": "[encoded data removed]",
      "text/plain": [
       "<Figure size 432x288 with 1 Axes>"
      ]
     },
     "metadata": {},
     "output_type": "display_data"
    }
   ],
   "source": [
    "import numpy as np\n",
    "from scipy.integrate import odeint\n",
    "import matplotlib.pyplot as plt\n",
    "\n",
    "def model(z,t,u):\n",
    "    x = z[0]\n",
    "    y = z[1]\n",
    "    dxdt = (-x + u)/2.0\n",
    "    dydt = (-y + x)/5.0\n",
    "    dzdt = [dxdt,dydt]\n",
    "    return dzdt\n",
    "\n",
    "z0 = [0,0]\n",
    "n = 10\n",
    "t = np.linspace(0,40,n)\n",
    "u = np.zeros(n)\n",
    "u[5:] = 2.0\n",
    "x = np.empty_like(t)\n",
    "y = np.empty_like(t)\n",
    "x[0] = z0[0]\n",
    "y[0] = z0[1]\n",
    "\n",
    "for i in range(1,n):\n",
    "    tspan = [t[i-1],t[i]]\n",
    "    z = odeint(model,z0,tspan,args=(u[i],))\n",
    "    x[i] = z[1][0]\n",
    "    y[i] = z[1][1]\n",
    "    z0 = z[1]\n",
    "\n",
    "# plot results\n",
    "plt.plot(t,u,'g:',label='u(t)')\n",
    "plt.plot(t,x,'b-',label='x(t)')\n",
    "plt.plot(t,y,'r--',label='y(t)')\n",
    "plt.ylabel('values')\n",
    "plt.xlabel('time')\n",
    "plt.grid()\n",
    "plt.legend(loc='best')\n",
    "plt.show()"
   ]
  },
  {
   "cell_type": "markdown",
   "metadata": {},
   "source": [
    "##  BBGKY Final code\n",
    "\n",
    "##### THE BBGKY HEIRARCHY FOR ONE DIMENSIONAL SPIN SYSTEM BASED ON CURIE WEISS 1D SPIN SYSTEM MODEL WITH TRANSVERSE SYMMETRY BREAKING FIELD\n",
    "##### reference:\n",
    "\n",
    "##### 1. Mori, T. “[1810.01584] Prethermalization in the Transverse-Field Ising Chain with Long-Range Interactions.” Accessed October 30, 2019. https://arxiv.org/abs/1810.01584.\n",
    "\n",
    "Here the model is ZZX and initial state is considered as the eigen state of $\\sigma^z$\n"
   ]
  },
  {
   "cell_type": "markdown",
   "metadata": {},
   "source": [
    "#### When $\\alpha = 0$"
   ]
  },
  {
   "cell_type": "code",
   "execution_count": 2,
   "metadata": {},
   "outputs": [
    {
     "name": "stdout",
     "output_type": "stream",
     "text": [
      "run started!\n",
      "code is okay!!\n"
     ]
    },
    {
     "data": {
      "image/png": "[encoded data removed]",
      "text/plain": [
       "<Figure size 432x288 with 3 Axes>"
      ]
     },
     "metadata": {
      "needs_background": "light"
     },
     "output_type": "display_data"
    }
   ],
   "source": [
    "import numpy as np\n",
    "from scipy.sparse import dia_matrix\n",
    "from math import *\n",
    "from scipy.integrate import odeint\n",
    "import matplotlib.pyplot as plt\n",
    "import time as tm\n",
    "\n",
    "# Required parameters\n",
    "N = 6               # the number of spin in the lattice\n",
    "alpha = 0.0         # the number of order parameter; alpha = 0 is meanfield limit\n",
    "omega = 25.0        # frequency of the periodic symmetry breaking field\n",
    "hdc = 0.1           # this is the dc part or constant part of the symmetry breaking field\n",
    "amp = 25.0          # amplitude of the symmetry breaking field\n",
    "n = 1500            # number of time steps for odeint \n",
    "\n",
    "# Initial values: ACCORDING TO MORI'S PAPER i.e. ZZX model\n",
    "jx, jy, jz = 0.0, 0.0, -1.0 \n",
    "hx, hy, hz = -1.0 * amp, 0.0, 0.0\n",
    "\n",
    "\n",
    "# Initial odeint state\n",
    "# the intial state is considered as the transverse initial state of the the direction\n",
    "# of the symmetry breaking field. Here in ZZX model, the symmetry breaking field is \n",
    "# in the \"x\" direction. So the inititial state is taken as the transverse of \"x\" which is \"Z\"\n",
    "# this the initital state is considered as the eigen state of the Pauili's \"sigma_z\" \n",
    "# herer we are trying to find out the expectation value of \"Sx\" with BBGKY applied on it.\n",
    "# so the ground state becomes zero as <psi_z| sigma_x | psi_z> = 0\n",
    "\n",
    "\n",
    "# Periodic Boundary Condition\n",
    "def jmat(N, alpha):\n",
    "    J = dia_matrix((N, N))\n",
    "    mid_diag = np.floor(N/2).astype(int)\n",
    "    for i in np.arange(1,mid_diag+1):\n",
    "        elem = pow(i, -alpha)\n",
    "        J.setdiag(elem, k=i)\n",
    "        J.setdiag(elem, k=-i)\n",
    "    for i in np.arange(mid_diag+1, N):\n",
    "        elem = pow(N-i, -alpha)\n",
    "        J.setdiag(elem, k=i)\n",
    "        J.setdiag(elem, k=-i)\n",
    "    return J.toarray()\n",
    "J = jmat(N, alpha)\n",
    "\n",
    "gmat = np.zeros((N,3,3))\n",
    "ttt = 0.0                 #initialze the time as zero\n",
    "wmat = np.array([[0, 2 * (sz[0] + hz), 0], \\\n",
    "                  [- 2 * (sz[0] + hz), 0, 2 * (hx * np.cos(omega * tttt) + hdc)],\\\n",
    "                  [0, - 2 * (hx * np.cos(omega * tttt) + hdc), 0]])\n",
    "v_vec = np.array([[2 * sy[0]], [- 2 * sx[0]], [0.0]])\n",
    "f_vec = np.array([[- sx[0] * sz[0]], [- sy[0] * sz[0]], [1 - sz[0] * sz[0]]])\n",
    "\n",
    "def gcorr(G,t,k,a,b,wmat,gmat,v_vec,f_vec):\n",
    "    left = sum(np.dot(wmat[a,c], gmat[k,c,b]) + np.dot(wmat[b,c], gmat[k,a,c]) for c in np.arange(3))\n",
    "    mdl1 = v_vec[a] * sum(np.dot(J[0, j], gmat[np.absolute(j-k) + 1, 2, b]) for j in np.arange(1,k))\n",
    "    mdl2 = v_vec[b] * sum(np.dot(J[k, j], gmat[j,a,2]) for j in np.arange(1,k))\n",
    "    rght = J[0, k] * (np.dot(v_vec[a], f_vec[b]) + np.dot(v_vec[b], f_vec[a]))\n",
    "    gc   = left + mdl1 + mdl2 + rght\n",
    "    return gc\n",
    "\n",
    "def g_t(k,i,j,t,gstate,wmat,gmat,v_vec,f_vec):\n",
    "    d_t = t\n",
    "    a,b = i,j\n",
    "    G = odeint(gcorr, gstate, d_t, args=((k,a,b,wmat,gmat,v_vec,f_vec)))\n",
    "    gstate = G[1]\n",
    "    return G[1]\n",
    "\n",
    "def zzx_model(dxyz, tspan, gstate,ts):\n",
    "    t = ts\n",
    "    sx, sy, sz = dxyz[0], dxyz[1], dxyz[2]\n",
    "    \n",
    "    v_vec = np.array([[2 * sy], [- 2 * sx], [0.0]])\n",
    "    f_vec = np.array([[- sx * sz], [- sy * sz], [1 - sz * sz]])\n",
    "    hx1 = hx * np.cos(omega * t[1]) + hdc\n",
    "    wmat = np.array([[0, 2 * (sz + hz), 0], [- 2 * (sz + hz), 0, 2.0 * hx1], [0.0, - 2.0 * hx1, 0]])\n",
    "    \n",
    "    dsx = 2.0 * sy * sz + 2.0 * hz * sy + 2.0 * sum(J[0,j] * g_t(j,1,2,t,gstate,wmat,gmat,v_vec,f_vec) for j in np.arange(1,N))\n",
    "    # here t[1] is taken as in the odeint, the integration in limited in lower and upper boundary condition.\n",
    "    # After each \"Odeint\" operation, the pointer or the programming courser goes to the final boundary condition.\n",
    "    # which is t[1] here. Thats the reason I have taken time value as t[1] at the line bellow.\n",
    "    dsy = - 2.0 * sx * sz - 2.0 * hz * sx + 2.0 * (hx  * np.cos(omega * t[1]) + hdc) * sz - 2.0 * (sum(J[0,j] * g_t(j,0,2,t,gstate,wmat,gmat,v_vec,f_vec) for j in np.arange(1,N)))\n",
    "    dsz = - 2.0 * (hx * np.cos(omega * t[1]) + hdc) * sy\n",
    "    dxyz = [dsx, dsy, dsz]   \n",
    "    return dxyz\n",
    "\n",
    "z0 = np.array([0.0, 0.0, 1.0], dtype=np.float64)\n",
    "t = np.linspace(0.0,30.0,n)       \n",
    "sx, sy, sz = np.zeros(n), np.zeros(n), np.zeros(n)\n",
    "sx[0],sy[0],sz[0] = z0[0],z0[1],z0[2]\n",
    "gstate = 0.0\n",
    "\n",
    "print(\"run started!\")\n",
    "\n",
    "for i in range(1,n):\n",
    "    # as the odeint for coupled differential equation runs for single time interval due to its coupled behavior.\n",
    "    tspan = [t[i-1],t[i]]        \n",
    "    ts = tspan\n",
    "    # in args=((gstate, ts)) , ts is taken as argument, because odeint runs more interval than the time steps entered \n",
    "    # in the \"odeint()\" syntax. Like if I have entered the the time stpes= np.linspace(0,1,10), but in reality\n",
    "    # it runs more steps in the \"odeint\" function when it runs. Thus is can cause ambiguity in the time steps I want\n",
    "    # in other calculations in \"zzx_model\" function. So i have made \"ts\" as argumenmt.\n",
    "    dxyz = odeint(zzx_model, z0, tspan, args=((gstate,ts)))\n",
    "    sx[i],sy[i],sz[i] = dxyz[1][0],dxyz[1][1],dxyz[1][2]\n",
    "    z0 = dxyz[1] \n",
    "\n",
    "#np.savetxt(\"bbgky_t_sx_sz_N8_alpha0.txt\",np.vstack((np.real(t), np.real(sx), np.real(sz))).T)\n",
    "\n",
    "print(\"code is okay!!\")\n",
    "\n",
    "plt.title(\"time evolution for BBGKY zzx model\")\n",
    "plt.subplot(311)\n",
    "plt.plot(t,sx, label=\"sx\")\n",
    "plt.legend()\n",
    "plt.subplot(312)\n",
    "plt.plot(t,sz, label=\"sz\")\n",
    "plt.legend()\n",
    "plt.subplot(313)\n",
    "plt.plot(t,sx, label=\"sx\")\n",
    "plt.plot(t,sz, label=\"sz\")\n",
    "plt.legend()\n",
    "plt.xlabel(\"t\")\n",
    "#plt.savefig(\"bbgky_zzx_model_N8_alpha0.jpeg\", dpi=300)\n",
    "plt.show()"
   ]
  }
 ],
 "metadata": {
  "kernelspec": {
   "display_name": "Python 3",
   "language": "python",
   "name": "python3"
  },
  "language_info": {
   "codemirror_mode": {
    "name": "ipython",
    "version": 3
   },
   "file_extension": ".py",
   "mimetype": "text/x-python",
   "name": "python",
   "nbconvert_exporter": "python",
   "pygments_lexer": "ipython3",
   "version": "3.8.2"
  }
 },
 "nbformat": 4,
 "nbformat_minor": 4
}
